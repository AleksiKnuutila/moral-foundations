{
 "cells": [
  {
   "cell_type": "code",
   "execution_count": 9,
   "metadata": {},
   "outputs": [],
   "source": [
    "import pandas as pd\n",
    "import numpy as np\n",
    "from sklearn.feature_extraction.text import CountVectorizer\n",
    "from sklearn.linear_model import LogisticRegression\n",
    "from sklearn.pipeline import Pipeline\n",
    "\n",
    "from lexicon_use import form_text_vector, load_models\n",
    "\n",
    "from gsitk.preprocess import pprocess_twitter, simple, Preprocesser\n",
    "\n",
    "pp_pipe = Pipeline([\n",
    "        ('twitter', Preprocesser(pprocess_twitter)),\n",
    "        ('simple', Preprocesser(simple)),\n",
    "])\n",
    "\n",
    "lrs, ngrams = load_models()\n",
    "\n",
    "moral_options = ('care', 'fairness', 'loyalty', 'authority', 'purity', 'non-moral')\n",
    "\n",
    "def predict(text, moral, from_file=False):\n",
    "    if not from_file:\n",
    "        text_processed = pp_pipe.transform([text])\n",
    "    else:\n",
    "        with open('lines.txt', 'r') as f:\n",
    "            lines = f.readlines()\n",
    "        lines = [line.strip() for line in lines]\n",
    "        text_processed = pp_pipe.transform(lines)\n",
    "    \n",
    "    X_uni = ngrams[moral].transform([' '.join(t) for t in text_processed])\n",
    "    Z = [form_text_vector(t) for t in text_processed]\n",
    "    Z = np.stack(Z)\n",
    "    \n",
    "    X_comb = np.hstack((X_uni.toarray(), Z))\n",
    "    \n",
    "    preds = lrs[moral].predict(X_comb)\n",
    "    return preds"
   ]
  },
  {
   "cell_type": "markdown",
   "metadata": {},
   "source": [
    "Predict a single text"
   ]
  },
  {
   "cell_type": "code",
   "execution_count": 44,
   "metadata": {},
   "outputs": [
    {
     "data": {
      "text/plain": [
       "array([1])"
      ]
     },
     "execution_count": 44,
     "metadata": {},
     "output_type": "execute_result"
    }
   ],
   "source": [
    "# example from real tweet\n",
    "text = '''\n",
    "PLS help #HASHTAG's family. No one prepares for this. They are in need of any assistance you can offer\n",
    "'''\n",
    "\n",
    "predict(text, 'care')"
   ]
  },
  {
   "cell_type": "markdown",
   "metadata": {},
   "source": [
    "It is possible to predict from a file, `lines.txt`. The format of this file is a text to analyze per line."
   ]
  },
  {
   "cell_type": "code",
   "execution_count": 48,
   "metadata": {},
   "outputs": [
    {
     "name": "stdout",
     "output_type": "stream",
     "text": [
      "My cat is happy\r\n",
      "I really care for my cat\r\n",
      "She hates going to the movies\r\n",
      "PLS help #HASHTAG's family. No one prepares for this. They are in need of any assistance you can offer\r\n"
     ]
    }
   ],
   "source": [
    "!cat lines.txt"
   ]
  },
  {
   "cell_type": "code",
   "execution_count": 47,
   "metadata": {
    "scrolled": true
   },
   "outputs": [
    {
     "data": {
      "text/plain": [
       "array([0, 0, 0, 1])"
      ]
     },
     "execution_count": 47,
     "metadata": {},
     "output_type": "execute_result"
    }
   ],
   "source": [
    "predict(None, 'care', from_file=True)"
   ]
  }
 ],
 "metadata": {
  "kernelspec": {
   "display_name": "Python 3",
   "language": "python",
   "name": "python3"
  },
  "language_info": {
   "codemirror_mode": {
    "name": "ipython",
    "version": 3
   },
   "file_extension": ".py",
   "mimetype": "text/x-python",
   "name": "python",
   "nbconvert_exporter": "python",
   "pygments_lexer": "ipython3",
   "version": "3.5.2"
  }
 },
 "nbformat": 4,
 "nbformat_minor": 2
}
