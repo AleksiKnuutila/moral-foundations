{
 "cells": [
  {
   "cell_type": "code",
   "execution_count": 6,
   "metadata": {},
   "outputs": [
    {
     "name": "stderr",
     "output_type": "stream",
     "text": [
      "/srv/conda/lib/python3.6/site-packages/sklearn/base.py:251: UserWarning: Trying to unpickle estimator LogisticRegression from version 0.20.0 when using version 0.20.2. This might lead to breaking code or invalid results. Use at your own risk.\n",
      "  UserWarning)\n",
      "/srv/conda/lib/python3.6/site-packages/sklearn/base.py:251: UserWarning: Trying to unpickle estimator CountVectorizer from version 0.20.0 when using version 0.20.2. This might lead to breaking code or invalid results. Use at your own risk.\n",
      "  UserWarning)\n"
     ]
    }
   ],
   "source": [
    "import pandas as pd\n",
    "import numpy as np\n",
    "from sklearn.feature_extraction.text import CountVectorizer\n",
    "from sklearn.linear_model import LogisticRegression\n",
    "from sklearn.pipeline import Pipeline\n",
    "\n",
    "from lexicon_use import form_text_vector, load_models\n",
    "\n",
    "from gsitk.preprocess import pprocess_twitter, simple, Preprocesser\n",
    "\n",
    "pp_pipe = Pipeline([\n",
    "        ('twitter', Preprocesser(pprocess_twitter)),\n",
    "        ('simple', Preprocesser(simple)),\n",
    "])\n",
    "\n",
    "lrs, ngrams = load_models()\n",
    "\n",
    "moral_options = ('care', 'fairness', 'loyalty', 'authority', 'purity', 'non-moral')\n",
    "\n",
    "def predict(text, moral):\n",
    "    if text:\n",
    "        text = [text]\n",
    "    else:\n",
    "        with open('lines.txt', 'r') as f:\n",
    "            lines = f.readlines()\n",
    "        text = [line.strip() for line in lines]\n",
    "        \n",
    "    text_processed = pp_pipe.transform(text)\n",
    "    \n",
    "    X_uni = ngrams[moral].transform([' '.join(t) for t in text_processed])\n",
    "    Z = [form_text_vector(t) for t in text_processed]\n",
    "    Z = np.stack(Z)\n",
    "    \n",
    "    X_comb = np.hstack((X_uni.toarray(), Z))\n",
    "    \n",
    "    preds = lrs[moral].predict(X_comb)\n",
    "    return preds"
   ]
  },
  {
   "cell_type": "markdown",
   "metadata": {},
   "source": [
    "Predict a single text"
   ]
  },
  {
   "cell_type": "code",
   "execution_count": 2,
   "metadata": {},
   "outputs": [
    {
     "data": {
      "text/plain": [
       "array([1])"
      ]
     },
     "execution_count": 2,
     "metadata": {},
     "output_type": "execute_result"
    }
   ],
   "source": [
    "# example from real tweet\n",
    "text = '''\n",
    "PLS help #HASHTAG's family. No one prepares for this. They are in need of any assistance you can offer\n",
    "'''\n",
    "\n",
    "predict(text, 'care')"
   ]
  },
  {
   "cell_type": "markdown",
   "metadata": {},
   "source": [
    "It is possible to predict from a file, `lines.txt`. The format of this file is a text to analyze per line."
   ]
  },
  {
   "cell_type": "code",
   "execution_count": 3,
   "metadata": {},
   "outputs": [
    {
     "name": "stdout",
     "output_type": "stream",
     "text": [
      "My cat is happy\r\n",
      "I really care for my cat\r\n",
      "She hates going to the movies\r\n",
      "PLS help #HASHTAG's family. No one prepares for this. They are in need of any assistance you can offer\r\n"
     ]
    }
   ],
   "source": [
    "!cat lines.txt"
   ]
  },
  {
   "cell_type": "code",
   "execution_count": 7,
   "metadata": {
    "scrolled": true
   },
   "outputs": [
    {
     "data": {
      "text/plain": [
       "array([0, 0, 0, 1])"
      ]
     },
     "execution_count": 7,
     "metadata": {},
     "output_type": "execute_result"
    }
   ],
   "source": [
    "predict(None, 'care')"
   ]
  }
 ],
 "metadata": {
  "kernelspec": {
   "display_name": "Python 3",
   "language": "python",
   "name": "python3"
  },
  "language_info": {
   "codemirror_mode": {
    "name": "ipython",
    "version": 3
   },
   "file_extension": ".py",
   "mimetype": "text/x-python",
   "name": "python",
   "nbconvert_exporter": "python",
   "pygments_lexer": "ipython3",
   "version": "3.6.7"
  }
 },
 "nbformat": 4,
 "nbformat_minor": 2
}
