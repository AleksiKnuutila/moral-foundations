{
 "cells": [
  {
   "cell_type": "code",
   "execution_count": 1,
   "metadata": {},
   "outputs": [],
   "source": [
    "import pandas as pd\n",
    "import numpy as np\n",
    "from sklearn.feature_extraction.text import CountVectorizer\n",
    "from sklearn.linear_model import LogisticRegression\n",
    "from sklearn.pipeline import Pipeline\n",
    "\n",
    "from lexicon_use import form_text_vector\n",
    "from estimators import estimate\n",
    "\n",
    "from gsitk.preprocess import pprocess_twitter, simple, Preprocesser\n",
    "\n",
    "\n",
    "moral_options = ('care', 'fairness', 'loyalty', 'authority', 'purity', 'non-moral')"
   ]
  },
  {
   "cell_type": "markdown",
   "metadata": {},
   "source": [
    "Predict a single text.\n",
    "In the following result, the output is the estimated probability of being relevant to either a vice or virtue of the corresponding moral trait."
   ]
  },
  {
   "cell_type": "code",
   "execution_count": 9,
   "metadata": {},
   "outputs": [
    {
     "data": {
      "text/plain": [
       "array([0.99999993])"
      ]
     },
     "execution_count": 9,
     "metadata": {},
     "output_type": "execute_result"
    }
   ],
   "source": [
    "# example from real tweet\n",
    "text = '''\n",
    "PLS help #HASHTAG's family. No one prepares for this. They are in need of any assistance you can offer\n",
    "'''\n",
    "\n",
    "estimate(text, moral='care', model='unigram+simon+freq')"
   ]
  },
  {
   "cell_type": "markdown",
   "metadata": {},
   "source": [
    "Any combination of the following models is valid:\n",
    "* count\n",
    "* freq\n",
    "* unigram\n",
    "* simon\n",
    "\n",
    "For example, it is possible to use `simon+unigram`, `simon+unigram+count`, etc. Order does not affect the chosen model."
   ]
  },
  {
   "cell_type": "markdown",
   "metadata": {},
   "source": [
    "Also, it is possible to predict from a file, `lines.txt`. The format of this file is a text to analyze per line."
   ]
  },
  {
   "cell_type": "code",
   "execution_count": 10,
   "metadata": {},
   "outputs": [
    {
     "name": "stdout",
     "output_type": "stream",
     "text": [
      "My cat is happy\r\n",
      "I really care for my cat\r\n",
      "She hates going to the movies\r\n",
      "PLS help #HASHTAG's family. No one prepares for this. They are in need of any assistance you can offer\r\n"
     ]
    }
   ],
   "source": [
    "!cat lines.txt"
   ]
  },
  {
   "cell_type": "code",
   "execution_count": 13,
   "metadata": {
    "scrolled": true
   },
   "outputs": [
    {
     "data": {
      "text/plain": [
       "array([1.03216899e-04, 1.28258061e-03, 2.10993531e-06, 9.99999926e-01])"
      ]
     },
     "execution_count": 13,
     "metadata": {},
     "output_type": "execute_result"
    }
   ],
   "source": [
    "estimate(None, moral='care', model='unigram+simon+freq', from_file=True)"
   ]
  }
 ],
 "metadata": {
  "kernelspec": {
   "display_name": "Python 3",
   "language": "python",
   "name": "python3"
  },
  "language_info": {
   "codemirror_mode": {
    "name": "ipython",
    "version": 3
   },
   "file_extension": ".py",
   "mimetype": "text/x-python",
   "name": "python",
   "nbconvert_exporter": "python",
   "pygments_lexer": "ipython3",
   "version": "3.5.2"
  }
 },
 "nbformat": 4,
 "nbformat_minor": 2
}
