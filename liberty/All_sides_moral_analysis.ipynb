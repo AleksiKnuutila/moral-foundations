{
 "cells": [
  {
   "cell_type": "code",
   "execution_count": 3,
   "metadata": {},
   "outputs": [
    {
     "data": {
      "text/html": [
       "<style>.container { width:100% !important; }</style>"
      ],
      "text/plain": [
       "<IPython.core.display.HTML object>"
      ]
     },
     "metadata": {},
     "output_type": "display_data"
    }
   ],
   "source": [
    "import re\n",
    "import numpy as np\n",
    "import pandas as pd\n",
    "from pprint import pprint\n",
    "from IPython.core.display import display, HTML\n",
    "display(HTML(\"<style>.container { width:100% !important; }</style>\"))"
   ]
  },
  {
   "cell_type": "code",
   "execution_count": 173,
   "metadata": {},
   "outputs": [],
   "source": [
    "import nltk\n",
    "from nltk.corpus import stopwords"
   ]
  },
  {
   "cell_type": "code",
   "execution_count": 4,
   "metadata": {},
   "outputs": [],
   "source": [
    "import warnings"
   ]
  },
  {
   "cell_type": "code",
   "execution_count": 134,
   "metadata": {},
   "outputs": [],
   "source": [
    "import string"
   ]
  },
  {
   "cell_type": "code",
   "execution_count": 5,
   "metadata": {},
   "outputs": [],
   "source": [
    "import json"
   ]
  },
  {
   "cell_type": "code",
   "execution_count": 6,
   "metadata": {},
   "outputs": [],
   "source": [
    "from collections import defaultdict\n",
    "import seaborn as sns"
   ]
  },
  {
   "cell_type": "code",
   "execution_count": 7,
   "metadata": {},
   "outputs": [],
   "source": [
    "from collections import OrderedDict"
   ]
  },
  {
   "cell_type": "code",
   "execution_count": 8,
   "metadata": {},
   "outputs": [],
   "source": [
    "import matplotlib.pyplot as plt"
   ]
  },
  {
   "cell_type": "code",
   "execution_count": 9,
   "metadata": {},
   "outputs": [],
   "source": [
    "from functools import reduce"
   ]
  },
  {
   "cell_type": "code",
   "execution_count": 10,
   "metadata": {},
   "outputs": [],
   "source": [
    "import functools\n",
    "print = functools.partial(print, flush=True)"
   ]
  },
  {
   "cell_type": "code",
   "execution_count": 413,
   "metadata": {},
   "outputs": [],
   "source": [
    "import matplotlib.pyplot as plt\n",
    "import matplotlib.colors as mcolors\n",
    "import matplotlib.cm as cm"
   ]
  },
  {
   "cell_type": "code",
   "execution_count": 12,
   "metadata": {},
   "outputs": [],
   "source": [
    "import moralstrength"
   ]
  },
  {
   "cell_type": "code",
   "execution_count": 13,
   "metadata": {},
   "outputs": [],
   "source": [
    "import os"
   ]
  },
  {
   "cell_type": "code",
   "execution_count": 14,
   "metadata": {},
   "outputs": [
    {
     "name": "stdout",
     "output_type": "stream",
     "text": [
      "Requirement already satisfied: en_core_web_sm==2.3.1 from https://github.com/explosion/spacy-models/releases/download/en_core_web_sm-2.3.1/en_core_web_sm-2.3.1.tar.gz#egg=en_core_web_sm==2.3.1 in /home/kkalimeri/miniconda3/envs/ldaenv/lib/python3.6/site-packages (2.3.1)\n",
      "Requirement already satisfied: spacy<2.4.0,>=2.3.0 in /home/kkalimeri/miniconda3/envs/ldaenv/lib/python3.6/site-packages (from en_core_web_sm==2.3.1) (2.3.4)\n",
      "Requirement already satisfied: srsly<1.1.0,>=1.0.2 in /home/kkalimeri/miniconda3/envs/ldaenv/lib/python3.6/site-packages (from spacy<2.4.0,>=2.3.0->en_core_web_sm==2.3.1) (1.0.4)\n",
      "Requirement already satisfied: thinc<7.5.0,>=7.4.1 in /home/kkalimeri/miniconda3/envs/ldaenv/lib/python3.6/site-packages (from spacy<2.4.0,>=2.3.0->en_core_web_sm==2.3.1) (7.4.3)\n",
      "Requirement already satisfied: catalogue<1.1.0,>=0.0.7 in /home/kkalimeri/miniconda3/envs/ldaenv/lib/python3.6/site-packages (from spacy<2.4.0,>=2.3.0->en_core_web_sm==2.3.1) (1.0.0)\n",
      "Requirement already satisfied: murmurhash<1.1.0,>=0.28.0 in /home/kkalimeri/miniconda3/envs/ldaenv/lib/python3.6/site-packages (from spacy<2.4.0,>=2.3.0->en_core_web_sm==2.3.1) (1.0.4)\n",
      "Requirement already satisfied: preshed<3.1.0,>=3.0.2 in /home/kkalimeri/miniconda3/envs/ldaenv/lib/python3.6/site-packages (from spacy<2.4.0,>=2.3.0->en_core_web_sm==2.3.1) (3.0.4)\n",
      "Requirement already satisfied: numpy>=1.15.0 in /home/kkalimeri/miniconda3/envs/ldaenv/lib/python3.6/site-packages (from spacy<2.4.0,>=2.3.0->en_core_web_sm==2.3.1) (1.18.5)\n",
      "Requirement already satisfied: plac<1.2.0,>=0.9.6 in /home/kkalimeri/miniconda3/envs/ldaenv/lib/python3.6/site-packages (from spacy<2.4.0,>=2.3.0->en_core_web_sm==2.3.1) (0.9.6)\n",
      "Requirement already satisfied: cymem<2.1.0,>=2.0.2 in /home/kkalimeri/miniconda3/envs/ldaenv/lib/python3.6/site-packages (from spacy<2.4.0,>=2.3.0->en_core_web_sm==2.3.1) (2.0.4)\n",
      "Requirement already satisfied: requests<3.0.0,>=2.13.0 in /home/kkalimeri/miniconda3/envs/ldaenv/lib/python3.6/site-packages (from spacy<2.4.0,>=2.3.0->en_core_web_sm==2.3.1) (2.24.0)\n",
      "Requirement already satisfied: blis<0.8.0,>=0.4.0; python_version >= \"3.6\" in /home/kkalimeri/miniconda3/envs/ldaenv/lib/python3.6/site-packages (from spacy<2.4.0,>=2.3.0->en_core_web_sm==2.3.1) (0.7.3)\n",
      "Requirement already satisfied: setuptools in /home/kkalimeri/miniconda3/envs/ldaenv/lib/python3.6/site-packages (from spacy<2.4.0,>=2.3.0->en_core_web_sm==2.3.1) (49.2.0.post20200714)\n",
      "Requirement already satisfied: wasabi<1.1.0,>=0.4.0 in /home/kkalimeri/miniconda3/envs/ldaenv/lib/python3.6/site-packages (from spacy<2.4.0,>=2.3.0->en_core_web_sm==2.3.1) (0.8.0)\n",
      "Requirement already satisfied: tqdm<5.0.0,>=4.38.0 in /home/kkalimeri/miniconda3/envs/ldaenv/lib/python3.6/site-packages (from spacy<2.4.0,>=2.3.0->en_core_web_sm==2.3.1) (4.47.0)\n",
      "Requirement already satisfied: importlib-metadata>=0.20; python_version < \"3.8\" in /home/kkalimeri/miniconda3/envs/ldaenv/lib/python3.6/site-packages (from catalogue<1.1.0,>=0.0.7->spacy<2.4.0,>=2.3.0->en_core_web_sm==2.3.1) (1.7.0)\n",
      "Requirement already satisfied: certifi>=2017.4.17 in /home/kkalimeri/miniconda3/envs/ldaenv/lib/python3.6/site-packages (from requests<3.0.0,>=2.13.0->spacy<2.4.0,>=2.3.0->en_core_web_sm==2.3.1) (2020.6.20)\n",
      "Requirement already satisfied: chardet<4,>=3.0.2 in /home/kkalimeri/miniconda3/envs/ldaenv/lib/python3.6/site-packages (from requests<3.0.0,>=2.13.0->spacy<2.4.0,>=2.3.0->en_core_web_sm==2.3.1) (3.0.4)\n",
      "Requirement already satisfied: urllib3!=1.25.0,!=1.25.1,<1.26,>=1.21.1 in /home/kkalimeri/miniconda3/envs/ldaenv/lib/python3.6/site-packages (from requests<3.0.0,>=2.13.0->spacy<2.4.0,>=2.3.0->en_core_web_sm==2.3.1) (1.24.3)\n",
      "Requirement already satisfied: idna<3,>=2.5 in /home/kkalimeri/miniconda3/envs/ldaenv/lib/python3.6/site-packages (from requests<3.0.0,>=2.13.0->spacy<2.4.0,>=2.3.0->en_core_web_sm==2.3.1) (2.10)\n",
      "Requirement already satisfied: zipp>=0.5 in /home/kkalimeri/miniconda3/envs/ldaenv/lib/python3.6/site-packages (from importlib-metadata>=0.20; python_version < \"3.8\"->catalogue<1.1.0,>=0.0.7->spacy<2.4.0,>=2.3.0->en_core_web_sm==2.3.1) (3.1.0)\n",
      "\u001b[38;5;2m✔ Download and installation successful\u001b[0m\n",
      "You can now load the model via spacy.load('en_core_web_sm')\n"
     ]
    }
   ],
   "source": [
    "!python3 -m spacy download en_core_web_sm"
   ]
  },
  {
   "cell_type": "code",
   "execution_count": 15,
   "metadata": {},
   "outputs": [],
   "source": [
    "import spacy\n",
    "from spacy import displacy\n",
    "import en_core_web_sm\n",
    "import gc\n",
    "import sys"
   ]
  },
  {
   "cell_type": "code",
   "execution_count": 16,
   "metadata": {},
   "outputs": [],
   "source": [
    "import statistics"
   ]
  },
  {
   "cell_type": "code",
   "execution_count": 17,
   "metadata": {},
   "outputs": [],
   "source": [
    "import unicodedata\n",
    "import itertools"
   ]
  },
  {
   "cell_type": "code",
   "execution_count": 18,
   "metadata": {},
   "outputs": [],
   "source": [
    "from moralstrength.moralstrength import estimate_morals"
   ]
  },
  {
   "cell_type": "markdown",
   "metadata": {},
   "source": [
    "#### Load Morals"
   ]
  },
  {
   "cell_type": "code",
   "execution_count": 19,
   "metadata": {},
   "outputs": [],
   "source": [
    "moral_list = ['authority','care', 'fairness', 'loyalty', 'purity']"
   ]
  },
  {
   "cell_type": "code",
   "execution_count": 20,
   "metadata": {},
   "outputs": [],
   "source": [
    "with open('./../../../ymejova/masks/Sentiment_Moral_Lexicons/moral_dictionary.json', 'r') as fp:\n",
    "    moral_dictionary = json.load(fp)"
   ]
  },
  {
   "cell_type": "code",
   "execution_count": 21,
   "metadata": {},
   "outputs": [],
   "source": [
    "# fill in the missing records\n",
    "for m in moral_list:\n",
    "    for k1 in moral_dictionary.keys():\n",
    "        if m not in moral_dictionary[k1].keys():\n",
    "            moral_dictionary[k1].update({m : np.nan})"
   ]
  },
  {
   "cell_type": "code",
   "execution_count": 22,
   "metadata": {},
   "outputs": [],
   "source": [
    "#sort morals in the dictionary\n",
    "for k,v in moral_dictionary.items():\n",
    "    d = moral_dictionary[k]\n",
    "    moral_dictionary[k] = OrderedDict(sorted(d.items()))"
   ]
  },
  {
   "cell_type": "code",
   "execution_count": 23,
   "metadata": {},
   "outputs": [],
   "source": [
    "def moral_estimation(message):\n",
    "    with warnings.catch_warnings():\n",
    "        warnings.filterwarnings('ignore')\n",
    "        lst = []\n",
    "        t = \" \".join(re.findall(r\"[a-zA-Z0-9]+\", message))\n",
    "        lem =nlp(str(t),disable=['parser', 'tagger','ner']) \n",
    "        if len([y for y in lem if not y.is_stop and y.pos_ != 'PUNCT'])!=0:\n",
    "            for text in [x.lemma_ for x in [y for y in lem if not y.is_stop and y.pos_ != 'PUNCT']]:\n",
    "                if text in moral_dictionary:\n",
    "                    lst.append(tuple(moral_dictionary[text].values()))\n",
    "                else:\n",
    "                    lst.append(tuple(np.full(5, np.nan)))\n",
    "            result = tuple(np.nanmean(lst, axis=0))\n",
    "        else:\n",
    "            result = tuple(np.full(5, np.nan))\n",
    "\n",
    "        return(result)"
   ]
  },
  {
   "cell_type": "markdown",
   "metadata": {},
   "source": [
    "### Import Dataset"
   ]
  },
  {
   "cell_type": "code",
   "execution_count": 92,
   "metadata": {},
   "outputs": [],
   "source": [
    "files = os.listdir('./../data/allsides/')"
   ]
  },
  {
   "cell_type": "code",
   "execution_count": 93,
   "metadata": {},
   "outputs": [],
   "source": [
    "id_ =[]\n",
    "type_ =[]\n",
    "df_=pd.DataFrame()\n",
    "for f in files:\n",
    "    id_.append(pd.Series(f).str.split('.')[0][0])\n",
    "    type_.append(pd.Series(f).str.split('.')[0][1])\n",
    "\n",
    "df_['ID'] = pd.Series(id_)\n",
    "df_['Type'] = pd.Series(type_)\n",
    "\n",
    "    "
   ]
  },
  {
   "cell_type": "code",
   "execution_count": null,
   "metadata": {},
   "outputs": [],
   "source": []
  },
  {
   "cell_type": "code",
   "execution_count": 95,
   "metadata": {},
   "outputs": [],
   "source": [
    "rightfiles = df_[df_.Type =='right'].ID\n",
    "leftfiles = df_[df_.Type =='left'].ID\n",
    "centerfiles = df_[df_.Type =='center'].ID\n",
    "metafiles = df_[df_.Type == 'meta'].ID"
   ]
  },
  {
   "cell_type": "markdown",
   "metadata": {},
   "source": [
    "### get metadata files"
   ]
  },
  {
   "cell_type": "code",
   "execution_count": 101,
   "metadata": {},
   "outputs": [],
   "source": [
    "df_meta = pd.DataFrame(columns={'Allsides title:','Allsides url:','Center source:','Center url:','Date:', 'Left source:','Left url:','Right source:','Right url:','Tags:'})"
   ]
  },
  {
   "cell_type": "code",
   "execution_count": 102,
   "metadata": {
    "scrolled": true
   },
   "outputs": [],
   "source": [
    "df_list = []\n",
    "\n",
    "for file in metafiles:\n",
    "    df = pd.read_csv('./../data/extracted/'+file+'.meta',sep='\\t',warn_bad_lines=False,error_bad_lines=False).T  \n",
    "    df_list.append(df)"
   ]
  },
  {
   "cell_type": "code",
   "execution_count": 103,
   "metadata": {},
   "outputs": [
    {
     "name": "stderr",
     "output_type": "stream",
     "text": [
      "/home/kkalimeri/miniconda3/envs/cloneldaenv/lib/python3.6/site-packages/ipykernel_launcher.py:8: SettingWithCopyWarning: \n",
      "A value is trying to be set on a copy of a slice from a DataFrame.\n",
      "Try using .loc[row_indexer,col_indexer] = value instead\n",
      "\n",
      "See the caveats in the documentation: http://pandas.pydata.org/pandas-docs/stable/indexing.html#indexing-view-versus-copy\n",
      "  \n"
     ]
    }
   ],
   "source": [
    "df_ = pd.DataFrame()\n",
    "df_meta = pd.DataFrame()\n",
    "\n",
    "for i in np.arange(0,len(df_list)):\n",
    "    df_ = df_list[i]\n",
    "    df_.columns = df_.iloc[0]\n",
    "    df_ = df_[1:]\n",
    "    df_['ID'] = metafiles.values[i]\n",
    "    df_meta = df_meta.append(df_)\n"
   ]
  },
  {
   "cell_type": "code",
   "execution_count": 402,
   "metadata": {},
   "outputs": [],
   "source": [
    "df_meta.to_csv('./../data/allsides/OutData/metadata.csv',sep='\\t')"
   ]
  },
  {
   "cell_type": "markdown",
   "metadata": {},
   "source": [
    "### get rightwing"
   ]
  },
  {
   "cell_type": "code",
   "execution_count": 191,
   "metadata": {},
   "outputs": [],
   "source": [
    "df_list = []\n",
    "\n",
    "for file in rightfiles:\n",
    "    df = pd.read_csv('./../data/extracted/'+file+'.right',sep='\\t',header=None,warn_bad_lines=False,error_bad_lines=False, encoding = \"ISO-8859-1\", engine='python').T  \n",
    "    df_list.append(df)"
   ]
  },
  {
   "cell_type": "code",
   "execution_count": 192,
   "metadata": {},
   "outputs": [],
   "source": [
    "df_ = pd.DataFrame()\n",
    "df_right = pd.DataFrame()\n",
    "\n",
    "for i in np.arange(0,len(df_list)):\n",
    "    df_ = df_list[i]\n",
    "    df_['ID'] = rightfiles.values[i]\n",
    "    df_right = df_right.append(df_)\n"
   ]
  },
  {
   "cell_type": "code",
   "execution_count": 193,
   "metadata": {},
   "outputs": [],
   "source": [
    "df_right.rename(columns={0:'Title',1:'Text'},inplace=True)\n",
    "df_right = df_right.reset_index()"
   ]
  },
  {
   "cell_type": "code",
   "execution_count": 403,
   "metadata": {},
   "outputs": [],
   "source": [
    "df_right.to_csv('./../data/allsides/OutData/rightdata.csv',sep='\\t')"
   ]
  },
  {
   "cell_type": "markdown",
   "metadata": {},
   "source": [
    "### get leftwing"
   ]
  },
  {
   "cell_type": "code",
   "execution_count": 194,
   "metadata": {},
   "outputs": [],
   "source": [
    "df_list = []\n",
    "\n",
    "for file in leftfiles:\n",
    "    df = pd.read_csv('./../data/extracted/'+file+'.left',sep='\\t',header=None,warn_bad_lines=False,error_bad_lines=False, encoding = \"ISO-8859-1\", engine='python').T  \n",
    "    df_list.append(df)"
   ]
  },
  {
   "cell_type": "code",
   "execution_count": 195,
   "metadata": {},
   "outputs": [],
   "source": [
    "df_ = pd.DataFrame()\n",
    "df_left = pd.DataFrame()\n",
    "\n",
    "for i in np.arange(0,len(df_list)):\n",
    "    df_ = df_list[i]\n",
    "    df_['ID'] = leftfiles.values[i]\n",
    "    df_left = df_left.append(df_)\n"
   ]
  },
  {
   "cell_type": "code",
   "execution_count": 196,
   "metadata": {},
   "outputs": [],
   "source": [
    "df_left.rename(columns={0:'Title',1:'Text'},inplace=True)\n",
    "df_left = df_left.reset_index()"
   ]
  },
  {
   "cell_type": "code",
   "execution_count": 404,
   "metadata": {},
   "outputs": [],
   "source": [
    "df_left.to_csv('./../data/allsides/OutData/leftdata.csv',sep='\\t')"
   ]
  },
  {
   "cell_type": "markdown",
   "metadata": {},
   "source": [
    "### get center"
   ]
  },
  {
   "cell_type": "code",
   "execution_count": 197,
   "metadata": {},
   "outputs": [],
   "source": [
    "df_list = []\n",
    "\n",
    "for file in centerfiles:\n",
    "    df = pd.read_csv('./../data/extracted/'+file+'.center',sep='\\t',header=None,warn_bad_lines=False,error_bad_lines=False,encoding = \"ISO-8859-1\", engine='python').T  \n",
    "    df_list.append(df)"
   ]
  },
  {
   "cell_type": "code",
   "execution_count": 198,
   "metadata": {},
   "outputs": [],
   "source": [
    "df_ = pd.DataFrame()\n",
    "df_center = pd.DataFrame()\n",
    "\n",
    "for i in np.arange(0,len(df_list)):\n",
    "    df_ = df_list[i]\n",
    "    df_['ID'] = centerfiles.values[i]\n",
    "    df_center = df_center.append(df_)\n"
   ]
  },
  {
   "cell_type": "code",
   "execution_count": 199,
   "metadata": {},
   "outputs": [],
   "source": [
    "df_center.rename(columns={0:'Title',1:'Text'},inplace=True)"
   ]
  },
  {
   "cell_type": "code",
   "execution_count": 200,
   "metadata": {},
   "outputs": [],
   "source": [
    "df_center = df_center.reset_index()"
   ]
  },
  {
   "cell_type": "code",
   "execution_count": 405,
   "metadata": {},
   "outputs": [],
   "source": [
    "df_center.to_csv('./../data/allsides/OutData/centerdata.csv',sep='\\t')"
   ]
  },
  {
   "cell_type": "markdown",
   "metadata": {},
   "source": [
    "Allsides title:\n",
    "Allsides url:\n",
    "Center source:\n",
    "Center url:\n",
    "Date:\n",
    "Left source:\n",
    "Left url:\n",
    "Right source:\n",
    "Right url:\n",
    "Tags:"
   ]
  },
  {
   "cell_type": "markdown",
   "metadata": {},
   "source": [
    "### Clean the text"
   ]
  },
  {
   "cell_type": "code",
   "execution_count": 130,
   "metadata": {},
   "outputs": [],
   "source": [
    "nlp = en_core_web_sm.load()"
   ]
  },
  {
   "cell_type": "code",
   "execution_count": 143,
   "metadata": {},
   "outputs": [
    {
     "name": "stdout",
     "output_type": "stream",
     "text": [
      "CPU times: user 10 µs, sys: 0 ns, total: 10 µs\n",
      "Wall time: 12.4 µs\n"
     ]
    }
   ],
   "source": [
    "%%time\n",
    "re_url = re.compile(r'https?:\\/\\/.*[\\r\\n]*', flags=re.U)\n",
    "#re_rtw = re.compile(r'RT', flags=re.U)\n",
    "re_htg = re.compile(r'#', flags=re.U) # remove hashtag sign\n",
    "#re_htg = re.compile(r'#[\\w]+ ?', flags=re.U)   # remove hashtags\n",
    "re_hnd = re.compile(r'@\\w+ ?', flags=re.U)\n",
    "re_wrd = re.compile(r'[^\\w]+ ', flags=re.U)\n",
    "re_num = re.compile(r'[0-9]+', flags=re.U)\n",
    "\n",
    "def preprocessing(txt):\n",
    "    t = txt\n",
    "    t = re_url.sub('', t)\n",
    "    t = re_htg.sub('', t)\n",
    "#    t = re_rtw.sub(' ', t)\n",
    "    t = re_hnd.sub(' ', t)\n",
    "    t = re_wrd.sub(' ', t)\n",
    "    t = re_num.sub(' ', t)\n",
    "    \n",
    "    #t = emoji_pattern.sub(r'', t)\n",
    "    #t = emoji.get_emoji_regexp().sub(r'', t)  #.decode('utf8')  # Remove emojis\n",
    "   # t = emoji.demojize(t)  # Convert emojis to text\n",
    "    return t.strip().lower()"
   ]
  },
  {
   "cell_type": "code",
   "execution_count": 174,
   "metadata": {},
   "outputs": [],
   "source": [
    "# cleaning master function\n",
    "remove = string.punctuation\n",
    "remove = remove.replace(\"-\", \"\") # don't remove hyphens\n",
    "pattern = r\"[{}]\".format(remove) # create the pattern\n",
    "\n",
    "def clean_tweet(tweet):\n",
    "    if pd.isnull(tweet):\n",
    "        return(np.nan)\n",
    "    else:\n",
    "        \n",
    "     \n",
    "        tweet = re.sub(pattern, \"\", tweet) \n",
    "\n",
    "        tweet = tweet.lower() # lower case   \n",
    "\n",
    "        tweet = ''.join([i for i in tweet if not i.isdigit()])\n",
    "        tweet = _strip_accents(tweet)\n",
    "        tweet = re.sub(r'&amp', 'and', tweet)\n",
    "        tweet = re.sub(r'[^A-Za-z]', ' ', tweet)\n",
    "        tweet = re.sub('\\s+', ' ', tweet) #remove double spacing\n",
    "       # tweet = re.sub('([0-9]+)', '', tweet) # remove numbers\n",
    "        tweet_token_list = [word for word in tweet.split(' ')\n",
    "                                if word not in my_stopwords] # remove stopwords\n",
    "        tweet = ' '.join(tweet_token_list)\n",
    "        return tweet\n",
    "\n",
    "def _strip_accents(text):\n",
    "    try:\n",
    "        text = unicode(text, 'utf-8')\n",
    "    except NameError: # unicode is a default on python 3 \n",
    "        pass\n",
    "\n",
    "    text = unicodedata.normalize('NFD', text)\\\n",
    "           .encode('ascii', 'ignore')\\\n",
    "           .decode(\"utf-8\")\n",
    "    return str(text)"
   ]
  },
  {
   "cell_type": "code",
   "execution_count": 175,
   "metadata": {},
   "outputs": [],
   "source": [
    "my_stopwords = nltk.corpus.stopwords.words('english')\n",
    "spacy_stopwords = spacy.lang.en.stop_words.STOP_WORDS\n",
    "my_stopwords = my_stopwords + list(spacy_stopwords) "
   ]
  },
  {
   "cell_type": "code",
   "execution_count": null,
   "metadata": {},
   "outputs": [],
   "source": []
  },
  {
   "cell_type": "code",
   "execution_count": 201,
   "metadata": {},
   "outputs": [],
   "source": [
    "df_center= df_center.iloc[df_center.Text.dropna().index]\n",
    "df_left= df_left.iloc[df_left.Text.dropna().index]\n",
    "df_right= df_right.iloc[df_right.Text.dropna().index]"
   ]
  },
  {
   "cell_type": "code",
   "execution_count": 203,
   "metadata": {},
   "outputs": [],
   "source": [
    "df_center.loc[:,'text_p'] = df_center['Text'].map(lambda x: _strip_accents(x))\n",
    "df_left.loc[:,'text_p'] = df_left['Text'].map(lambda x: _strip_accents(x))\n",
    "df_right.loc[:,'text_p'] = df_right['Text'].map(lambda x: _strip_accents(x))"
   ]
  },
  {
   "cell_type": "code",
   "execution_count": 204,
   "metadata": {},
   "outputs": [],
   "source": [
    "df_center['text_clean'] = df_center.text_p.apply(lambda x: clean_tweet(x))\n",
    "df_left['text_clean'] = df_left.text_p.apply(lambda x: clean_tweet(x))\n",
    "df_right['text_clean'] = df_right.text_p.apply(lambda x: clean_tweet(x))"
   ]
  },
  {
   "cell_type": "markdown",
   "metadata": {},
   "source": [
    "### Estimate Morals"
   ]
  },
  {
   "cell_type": "code",
   "execution_count": 215,
   "metadata": {},
   "outputs": [
    {
     "name": "stdout",
     "output_type": "stream",
     "text": [
      "CPU times: user 14.2 s, sys: 0 ns, total: 14.2 s\n",
      "Wall time: 14.2 s\n"
     ]
    }
   ],
   "source": [
    "%%time\n",
    "df_center[['care', 'fairness', 'loyalty', 'authority', 'purity']]  = estimate_morals(df_center['text_clean'], process=True) \n",
    "df_left[['care', 'fairness', 'loyalty', 'authority', 'purity']]  = estimate_morals(df_left['text_clean'], process=True) \n",
    "df_right[['care', 'fairness', 'loyalty', 'authority', 'purity']]  = estimate_morals(df_right['text_clean'], process=True) "
   ]
  },
  {
   "cell_type": "code",
   "execution_count": 216,
   "metadata": {},
   "outputs": [
    {
     "data": {
      "text/html": [
       "<div>\n",
       "<style scoped>\n",
       "    .dataframe tbody tr th:only-of-type {\n",
       "        vertical-align: middle;\n",
       "    }\n",
       "\n",
       "    .dataframe tbody tr th {\n",
       "        vertical-align: top;\n",
       "    }\n",
       "\n",
       "    .dataframe thead th {\n",
       "        text-align: right;\n",
       "    }\n",
       "</style>\n",
       "<table border=\"1\" class=\"dataframe\">\n",
       "  <thead>\n",
       "    <tr style=\"text-align: right;\">\n",
       "      <th></th>\n",
       "      <th>index</th>\n",
       "      <th>Title</th>\n",
       "      <th>Text</th>\n",
       "      <th>ID</th>\n",
       "      <th>text_p</th>\n",
       "      <th>text_clean</th>\n",
       "      <th>care</th>\n",
       "      <th>fairness</th>\n",
       "      <th>loyalty</th>\n",
       "      <th>authority</th>\n",
       "      <th>purity</th>\n",
       "    </tr>\n",
       "  </thead>\n",
       "  <tbody>\n",
       "    <tr>\n",
       "      <th>0</th>\n",
       "      <td>0</td>\n",
       "      <td>Court rules Trump administration can withhold ...</td>\n",
       "      <td>The 2nd U.S. Circuit Court of Appeals ruled We...</td>\n",
       "      <td>e4f9d8187267015720142e2c2fb5f12d</td>\n",
       "      <td>The 2nd U.S. Circuit Court of Appeals ruled We...</td>\n",
       "      <td>nd circuit court appeals ruled wednesday trump...</td>\n",
       "      <td>6.75</td>\n",
       "      <td>7.6</td>\n",
       "      <td>4.833333</td>\n",
       "      <td>8.666667</td>\n",
       "      <td>NaN</td>\n",
       "    </tr>\n",
       "    <tr>\n",
       "      <th>1</th>\n",
       "      <td>0</td>\n",
       "      <td>Why Hillary Clinton really might tap Elizabeth...</td>\n",
       "      <td>Elizabeth Warren endorsed Hillary Clinton on T...</td>\n",
       "      <td>628af2b23d8bc38d04af687d01df878d</td>\n",
       "      <td>Elizabeth Warren endorsed Hillary Clinton on T...</td>\n",
       "      <td>elizabeth warren endorsed hillary clinton thur...</td>\n",
       "      <td>4.00</td>\n",
       "      <td>NaN</td>\n",
       "      <td>NaN</td>\n",
       "      <td>NaN</td>\n",
       "      <td>NaN</td>\n",
       "    </tr>\n",
       "    <tr>\n",
       "      <th>2</th>\n",
       "      <td>0</td>\n",
       "      <td>Report: Homeland Security Secretary Kirstjen N...</td>\n",
       "      <td>President Trump unloaded on Homeland Security ...</td>\n",
       "      <td>44755416cf8cfda697c9156ef4b3e29e</td>\n",
       "      <td>President Trump unloaded on Homeland Security ...</td>\n",
       "      <td>president trump unloaded homeland security sec...</td>\n",
       "      <td>8.20</td>\n",
       "      <td>NaN</td>\n",
       "      <td>7.142857</td>\n",
       "      <td>5.777778</td>\n",
       "      <td>NaN</td>\n",
       "    </tr>\n",
       "    <tr>\n",
       "      <th>3</th>\n",
       "      <td>0</td>\n",
       "      <td>US election 2020: Five viral vote claims fact-...</td>\n",
       "      <td>FACT CHECKAs President Trump continues to disp...</td>\n",
       "      <td>babb9ff0914c131da1b994fc6e31c77f</td>\n",
       "      <td>FACT CHECKAs President Trump continues to disp...</td>\n",
       "      <td>fact checkas president trump continues dispute...</td>\n",
       "      <td>NaN</td>\n",
       "      <td>NaN</td>\n",
       "      <td>4.416667</td>\n",
       "      <td>8.800000</td>\n",
       "      <td>7.8</td>\n",
       "    </tr>\n",
       "    <tr>\n",
       "      <th>4</th>\n",
       "      <td>0</td>\n",
       "      <td>Trump's emergency declaration would trigger a ...</td>\n",
       "      <td>President Donald Trump will declare a national...</td>\n",
       "      <td>9724ccefed090920d62a535e245661d0</td>\n",
       "      <td>President Donald Trump will declare a national...</td>\n",
       "      <td>president donald trump declare national emerge...</td>\n",
       "      <td>NaN</td>\n",
       "      <td>NaN</td>\n",
       "      <td>5.200000</td>\n",
       "      <td>7.800000</td>\n",
       "      <td>NaN</td>\n",
       "    </tr>\n",
       "  </tbody>\n",
       "</table>\n",
       "</div>"
      ],
      "text/plain": [
       "   index                                              Title  \\\n",
       "0      0  Court rules Trump administration can withhold ...   \n",
       "1      0  Why Hillary Clinton really might tap Elizabeth...   \n",
       "2      0  Report: Homeland Security Secretary Kirstjen N...   \n",
       "3      0  US election 2020: Five viral vote claims fact-...   \n",
       "4      0  Trump's emergency declaration would trigger a ...   \n",
       "\n",
       "                                                Text  \\\n",
       "0  The 2nd U.S. Circuit Court of Appeals ruled We...   \n",
       "1  Elizabeth Warren endorsed Hillary Clinton on T...   \n",
       "2  President Trump unloaded on Homeland Security ...   \n",
       "3  FACT CHECKAs President Trump continues to disp...   \n",
       "4  President Donald Trump will declare a national...   \n",
       "\n",
       "                                 ID  \\\n",
       "0  e4f9d8187267015720142e2c2fb5f12d   \n",
       "1  628af2b23d8bc38d04af687d01df878d   \n",
       "2  44755416cf8cfda697c9156ef4b3e29e   \n",
       "3  babb9ff0914c131da1b994fc6e31c77f   \n",
       "4  9724ccefed090920d62a535e245661d0   \n",
       "\n",
       "                                              text_p  \\\n",
       "0  The 2nd U.S. Circuit Court of Appeals ruled We...   \n",
       "1  Elizabeth Warren endorsed Hillary Clinton on T...   \n",
       "2  President Trump unloaded on Homeland Security ...   \n",
       "3  FACT CHECKAs President Trump continues to disp...   \n",
       "4  President Donald Trump will declare a national...   \n",
       "\n",
       "                                          text_clean  care  fairness  \\\n",
       "0  nd circuit court appeals ruled wednesday trump...  6.75       7.6   \n",
       "1  elizabeth warren endorsed hillary clinton thur...  4.00       NaN   \n",
       "2  president trump unloaded homeland security sec...  8.20       NaN   \n",
       "3  fact checkas president trump continues dispute...   NaN       NaN   \n",
       "4  president donald trump declare national emerge...   NaN       NaN   \n",
       "\n",
       "    loyalty  authority  purity  \n",
       "0  4.833333   8.666667     NaN  \n",
       "1       NaN        NaN     NaN  \n",
       "2  7.142857   5.777778     NaN  \n",
       "3  4.416667   8.800000     7.8  \n",
       "4  5.200000   7.800000     NaN  "
      ]
     },
     "execution_count": 216,
     "metadata": {},
     "output_type": "execute_result"
    }
   ],
   "source": [
    "df_center.head()"
   ]
  },
  {
   "cell_type": "code",
   "execution_count": 229,
   "metadata": {},
   "outputs": [
    {
     "data": {
      "text/plain": [
       "((3786, 11), (3776, 11), (3784, 11))"
      ]
     },
     "execution_count": 229,
     "metadata": {},
     "output_type": "execute_result"
    }
   ],
   "source": [
    "df_center.shape,df_left.shape,df_right.shape,"
   ]
  },
  {
   "cell_type": "code",
   "execution_count": 258,
   "metadata": {},
   "outputs": [
    {
     "data": {
      "text/html": [
       "<div>\n",
       "<style scoped>\n",
       "    .dataframe tbody tr th:only-of-type {\n",
       "        vertical-align: middle;\n",
       "    }\n",
       "\n",
       "    .dataframe tbody tr th {\n",
       "        vertical-align: top;\n",
       "    }\n",
       "\n",
       "    .dataframe thead th {\n",
       "        text-align: right;\n",
       "    }\n",
       "</style>\n",
       "<table border=\"1\" class=\"dataframe\">\n",
       "  <thead>\n",
       "    <tr style=\"text-align: right;\">\n",
       "      <th></th>\n",
       "      <th>index</th>\n",
       "      <th>Title</th>\n",
       "      <th>Text</th>\n",
       "      <th>ID</th>\n",
       "      <th>text_p</th>\n",
       "      <th>text_clean</th>\n",
       "      <th>care</th>\n",
       "      <th>fairness</th>\n",
       "      <th>loyalty</th>\n",
       "      <th>authority</th>\n",
       "      <th>purity</th>\n",
       "    </tr>\n",
       "  </thead>\n",
       "  <tbody>\n",
       "    <tr>\n",
       "      <th>0</th>\n",
       "      <td>0</td>\n",
       "      <td>Court rules Trump administration can withhold ...</td>\n",
       "      <td>The 2nd U.S. Circuit Court of Appeals ruled We...</td>\n",
       "      <td>e4f9d8187267015720142e2c2fb5f12d</td>\n",
       "      <td>The 2nd U.S. Circuit Court of Appeals ruled We...</td>\n",
       "      <td>nd circuit court appeals ruled wednesday trump...</td>\n",
       "      <td>6.75</td>\n",
       "      <td>7.6</td>\n",
       "      <td>4.833333</td>\n",
       "      <td>8.666667</td>\n",
       "      <td>NaN</td>\n",
       "    </tr>\n",
       "    <tr>\n",
       "      <th>1</th>\n",
       "      <td>0</td>\n",
       "      <td>Why Hillary Clinton really might tap Elizabeth...</td>\n",
       "      <td>Elizabeth Warren endorsed Hillary Clinton on T...</td>\n",
       "      <td>628af2b23d8bc38d04af687d01df878d</td>\n",
       "      <td>Elizabeth Warren endorsed Hillary Clinton on T...</td>\n",
       "      <td>elizabeth warren endorsed hillary clinton thur...</td>\n",
       "      <td>4.00</td>\n",
       "      <td>NaN</td>\n",
       "      <td>NaN</td>\n",
       "      <td>NaN</td>\n",
       "      <td>NaN</td>\n",
       "    </tr>\n",
       "    <tr>\n",
       "      <th>2</th>\n",
       "      <td>0</td>\n",
       "      <td>Report: Homeland Security Secretary Kirstjen N...</td>\n",
       "      <td>President Trump unloaded on Homeland Security ...</td>\n",
       "      <td>44755416cf8cfda697c9156ef4b3e29e</td>\n",
       "      <td>President Trump unloaded on Homeland Security ...</td>\n",
       "      <td>president trump unloaded homeland security sec...</td>\n",
       "      <td>8.20</td>\n",
       "      <td>NaN</td>\n",
       "      <td>7.142857</td>\n",
       "      <td>5.777778</td>\n",
       "      <td>NaN</td>\n",
       "    </tr>\n",
       "    <tr>\n",
       "      <th>3</th>\n",
       "      <td>0</td>\n",
       "      <td>US election 2020: Five viral vote claims fact-...</td>\n",
       "      <td>FACT CHECKAs President Trump continues to disp...</td>\n",
       "      <td>babb9ff0914c131da1b994fc6e31c77f</td>\n",
       "      <td>FACT CHECKAs President Trump continues to disp...</td>\n",
       "      <td>fact checkas president trump continues dispute...</td>\n",
       "      <td>NaN</td>\n",
       "      <td>NaN</td>\n",
       "      <td>4.416667</td>\n",
       "      <td>8.800000</td>\n",
       "      <td>7.8</td>\n",
       "    </tr>\n",
       "    <tr>\n",
       "      <th>4</th>\n",
       "      <td>0</td>\n",
       "      <td>Trump's emergency declaration would trigger a ...</td>\n",
       "      <td>President Donald Trump will declare a national...</td>\n",
       "      <td>9724ccefed090920d62a535e245661d0</td>\n",
       "      <td>President Donald Trump will declare a national...</td>\n",
       "      <td>president donald trump declare national emerge...</td>\n",
       "      <td>NaN</td>\n",
       "      <td>NaN</td>\n",
       "      <td>5.200000</td>\n",
       "      <td>7.800000</td>\n",
       "      <td>NaN</td>\n",
       "    </tr>\n",
       "  </tbody>\n",
       "</table>\n",
       "</div>"
      ],
      "text/plain": [
       "   index                                              Title  \\\n",
       "0      0  Court rules Trump administration can withhold ...   \n",
       "1      0  Why Hillary Clinton really might tap Elizabeth...   \n",
       "2      0  Report: Homeland Security Secretary Kirstjen N...   \n",
       "3      0  US election 2020: Five viral vote claims fact-...   \n",
       "4      0  Trump's emergency declaration would trigger a ...   \n",
       "\n",
       "                                                Text  \\\n",
       "0  The 2nd U.S. Circuit Court of Appeals ruled We...   \n",
       "1  Elizabeth Warren endorsed Hillary Clinton on T...   \n",
       "2  President Trump unloaded on Homeland Security ...   \n",
       "3  FACT CHECKAs President Trump continues to disp...   \n",
       "4  President Donald Trump will declare a national...   \n",
       "\n",
       "                                 ID  \\\n",
       "0  e4f9d8187267015720142e2c2fb5f12d   \n",
       "1  628af2b23d8bc38d04af687d01df878d   \n",
       "2  44755416cf8cfda697c9156ef4b3e29e   \n",
       "3  babb9ff0914c131da1b994fc6e31c77f   \n",
       "4  9724ccefed090920d62a535e245661d0   \n",
       "\n",
       "                                              text_p  \\\n",
       "0  The 2nd U.S. Circuit Court of Appeals ruled We...   \n",
       "1  Elizabeth Warren endorsed Hillary Clinton on T...   \n",
       "2  President Trump unloaded on Homeland Security ...   \n",
       "3  FACT CHECKAs President Trump continues to disp...   \n",
       "4  President Donald Trump will declare a national...   \n",
       "\n",
       "                                          text_clean  care  fairness  \\\n",
       "0  nd circuit court appeals ruled wednesday trump...  6.75       7.6   \n",
       "1  elizabeth warren endorsed hillary clinton thur...  4.00       NaN   \n",
       "2  president trump unloaded homeland security sec...  8.20       NaN   \n",
       "3  fact checkas president trump continues dispute...   NaN       NaN   \n",
       "4  president donald trump declare national emerge...   NaN       NaN   \n",
       "\n",
       "    loyalty  authority  purity  \n",
       "0  4.833333   8.666667     NaN  \n",
       "1       NaN        NaN     NaN  \n",
       "2  7.142857   5.777778     NaN  \n",
       "3  4.416667   8.800000     7.8  \n",
       "4  5.200000   7.800000     NaN  "
      ]
     },
     "execution_count": 258,
     "metadata": {},
     "output_type": "execute_result"
    }
   ],
   "source": [
    "df_center.head()"
   ]
  },
  {
   "cell_type": "code",
   "execution_count": 262,
   "metadata": {},
   "outputs": [],
   "source": [
    "df_center_m = df_center.loc[:,['ID','authority','care','fairness','loyalty','purity']].melt(id_vars=['ID'], value_vars=['authority','care','fairness','loyalty','purity',],\n",
    "    var_name='Morals', value_name='Value')\n",
    "df_left_m = df_left.loc[:,['ID','authority','care','fairness','loyalty','purity']].melt(id_vars=['ID'], value_vars=['authority','care','fairness','loyalty','purity',],\n",
    "    var_name='Morals', value_name='Value')\n",
    "df_right_m = df_right.loc[:,['ID','authority','care','fairness','loyalty','purity']].melt(id_vars=['ID'], value_vars=['authority','care','fairness','loyalty','purity',],\n",
    "    var_name='Morals', value_name='Value')\n"
   ]
  },
  {
   "cell_type": "code",
   "execution_count": 263,
   "metadata": {},
   "outputs": [],
   "source": [
    "df_center_m['Leaning']='Center'\n",
    "df_left_m['Leaning']='Left'\n",
    "df_right_m['Leaning']='Right'"
   ]
  },
  {
   "cell_type": "code",
   "execution_count": 266,
   "metadata": {},
   "outputs": [],
   "source": [
    "df_allsides_m = pd.concat([df_center_m,df_left_m, df_right_m])"
   ]
  },
  {
   "cell_type": "code",
   "execution_count": 270,
   "metadata": {},
   "outputs": [],
   "source": [
    "df_allsides_m = df_allsides_m.dropna()"
   ]
  },
  {
   "cell_type": "code",
   "execution_count": 417,
   "metadata": {},
   "outputs": [],
   "source": [
    "colors = {'Left' : 'darkolivegreen', 'Center' : 'royalblue', 'Right' : 'firebrick'}"
   ]
  },
  {
   "cell_type": "code",
   "execution_count": 419,
   "metadata": {},
   "outputs": [
    {
     "data": {
      "image/png": "[encoded data removed]",
      "text/plain": [
       "<Figure size 720x360 with 1 Axes>"
      ]
     },
     "metadata": {
      "needs_background": "light"
     },
     "output_type": "display_data"
    }
   ],
   "source": [
    "plt.figure(figsize=(10,5))\n",
    "sns.pointplot(x =df_allsides_m.Morals, y= df_allsides_m.Value, data = df_allsides_m,hue='Leaning', hue_order =['Left','Center','Right'],dodge=True,join=False, estimator=np.median, capsize=.2,order = ['care', 'fairness', 'loyalty', 'authority', 'purity'], palette = colors )\n",
    "plt.legend()\n",
    "plt.ylim(1, 9)\n",
    "plt.ylabel('Moral Valence')\n",
    "plt.xlabel('')\n",
    "plt.savefig('./../figs/allsides/TotalMedianDifferenceSides.pdf',format='pdf', transparent=True)"
   ]
  },
  {
   "cell_type": "code",
   "execution_count": 364,
   "metadata": {},
   "outputs": [],
   "source": [
    "df_center_tags = df_allsides_m.merge(df_meta.loc[:,['ID','Tags:']],left_on='ID',right_on='ID')"
   ]
  },
  {
   "cell_type": "code",
   "execution_count": 365,
   "metadata": {},
   "outputs": [],
   "source": [
    "df_center_tags.rename(columns={'Tags:':'Tags'},inplace=True)"
   ]
  },
  {
   "cell_type": "code",
   "execution_count": 367,
   "metadata": {},
   "outputs": [],
   "source": [
    "df_center_tags = df_center_tags.iloc[df_center_tags.Tags.dropna().index]"
   ]
  },
  {
   "cell_type": "code",
   "execution_count": 420,
   "metadata": {},
   "outputs": [],
   "source": [
    "for i in df_center_tags.Tags.unique():\n",
    "    data = df_center_tags[df_center_tags.Tags == i]\n",
    "    fig = plt.figure(figsize=(10,5))\n",
    "    if (data.Leaning.unique().shape[0]==1):\n",
    "        sns.pointplot(x =data.Morals, y= data.Value, data = data,dodge=True,join=False, estimator=np.median, capsize=.2,order=['care', 'fairness', 'loyalty', 'authority', 'purity'])\n",
    "        plt.legend(data.Leaning.unique())\n",
    "        plt.title(i)\n",
    "    else:\n",
    "        sns.pointplot(x =data.Morals, y= data.Value, data = data, hue= 'Leaning', hue_order =['Left','Center','Right'] , dodge=True,join=False, estimator=np.median, capsize=.2,order=['care', 'fairness', 'loyalty', 'authority', 'purity'], palette = colors )\n",
    "        plt.title(i)\n",
    "\n",
    "    plt.ylabel('Moral Valence')\n",
    "    plt.ylim(0, 9)\n",
    "    plt.xlabel('')\n",
    "    plt.savefig('./../figs/allsides/'+str(i)+'.pdf',format='pdf', transparent=True)\n",
    "    plt.close(fig)\n",
    "    gc.collect()"
   ]
  },
  {
   "cell_type": "code",
   "execution_count": 421,
   "metadata": {},
   "outputs": [
    {
     "data": {
      "text/plain": [
       "514760"
      ]
     },
     "execution_count": 421,
     "metadata": {},
     "output_type": "execute_result"
    }
   ],
   "source": [
    "gc.collect()"
   ]
  },
  {
   "cell_type": "code",
   "execution_count": null,
   "metadata": {},
   "outputs": [],
   "source": []
  },
  {
   "cell_type": "code",
   "execution_count": null,
   "metadata": {},
   "outputs": [],
   "source": []
  }
 ],
 "metadata": {
  "kernelspec": {
   "display_name": "cloneldaenv",
   "language": "python",
   "name": "cloneldaenv"
  },
  "language_info": {
   "codemirror_mode": {
    "name": "ipython",
    "version": 3
   },
   "file_extension": ".py",
   "mimetype": "text/x-python",
   "name": "python",
   "nbconvert_exporter": "python",
   "pygments_lexer": "ipython3",
   "version": "3.6.10"
  }
 },
 "nbformat": 4,
 "nbformat_minor": 2
}
